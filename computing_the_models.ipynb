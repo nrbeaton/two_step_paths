{
 "cells": [
  {
   "cell_type": "code",
   "execution_count": 1,
   "metadata": {},
   "outputs": [
    {
     "data": {
      "text/plain": [
       "65536"
      ]
     },
     "execution_count": 1,
     "metadata": {},
     "output_type": "execute_result"
    }
   ],
   "source": [
    "# construct the matrices for all possible models\n",
    "# there are 2^16 of these\n",
    "# here is one easy (silly?) way to do it\n",
    "\n",
    "rows = []\n",
    "\n",
    "for i in [0,1]:\n",
    "    for j in [0,1]:\n",
    "        for k in [0,1]:\n",
    "            for l in [0,1]:\n",
    "                rows.append([i,j,k,l])\n",
    "\n",
    "allmodels = []\n",
    "\n",
    "for r1 in rows:\n",
    "    for r2 in rows:\n",
    "        for r3 in rows:\n",
    "            for r4 in rows:\n",
    "                allmodels.append(matrix([r1,r2,r3,r4]))\n",
    "\n",
    "len(allmodels)               "
   ]
  },
  {
   "cell_type": "code",
   "execution_count": 2,
   "metadata": {},
   "outputs": [
    {
     "data": {
      "text/plain": [
       "25696"
      ]
     },
     "execution_count": 2,
     "metadata": {},
     "output_type": "execute_result"
    }
   ],
   "source": [
    "# now we want to only keep those models which are connected\n",
    "# ie. those for which there is a power n>1 such that (T^n)_ij > 0\n",
    "# equivalently, is there an n>1 such that T+T^2+...+T^n has no zeros?\n",
    "\n",
    "def is_connected(T,n):\n",
    "    S = zero_matrix(4)\n",
    "    for i in range(1,n+1):\n",
    "        S += T^i\n",
    "    return(min(S.list()) > 0)\n",
    "\n",
    "connectedmodels = []\n",
    "\n",
    "# n=4 suffices\n",
    "for T in allmodels:\n",
    "    if is_connected(T, 4):\n",
    "        connectedmodels.append(T)\n",
    "\n",
    "len(connectedmodels)"
   ]
  },
  {
   "cell_type": "code",
   "execution_count": 3,
   "metadata": {},
   "outputs": [
    {
     "data": {
      "text/plain": [
       "25575"
      ]
     },
     "execution_count": 3,
     "metadata": {},
     "output_type": "execute_result"
    }
   ],
   "source": [
    "# now we want the aperiodic models\n",
    "# that is, models for which there is some n such that T^n has no zeros\n",
    "\n",
    "def is_aperiodic(T,n):\n",
    "    S = T^n\n",
    "    return(min(S.list()) > 0)\n",
    "\n",
    "aperiodicmodels = []\n",
    "\n",
    "# it can be shown that n=10 is sufficient to check\n",
    "for T in connectedmodels:\n",
    "    if is_aperiodic(T, 10):\n",
    "        aperiodicmodels.append(T)\n",
    "\n",
    "len(aperiodicmodels)"
   ]
  },
  {
   "cell_type": "code",
   "execution_count": 4,
   "metadata": {},
   "outputs": [
    {
     "name": "stdout",
     "output_type": "stream",
     "text": [
      "0\n",
      "1\n",
      "2\n",
      "3\n",
      "4\n",
      "5\n",
      "6\n",
      "7\n",
      "8\n",
      "9\n",
      "10\n",
      "11\n",
      "12\n",
      "13\n",
      "14\n",
      "15\n",
      "16\n",
      "17\n",
      "18\n",
      "19\n",
      "20\n",
      "21\n",
      "22\n",
      "23\n",
      "\n",
      " numfixedall 3044 \n",
      "\n",
      "0\n",
      "1\n",
      "2\n",
      "3\n",
      "4\n",
      "5\n",
      "6\n",
      "7\n",
      "8\n",
      "9\n",
      "10\n",
      "11\n",
      "12\n",
      "13\n",
      "14\n",
      "15\n",
      "16\n",
      "17\n",
      "18\n",
      "19\n",
      "20\n",
      "21\n",
      "22\n",
      "23\n",
      "\n",
      " numfixedconnected 1168 \n",
      "\n",
      "0\n",
      "1\n",
      "2\n",
      "3\n",
      "4\n",
      "5\n",
      "6\n",
      "7\n",
      "8\n",
      "9\n",
      "10\n",
      "11\n",
      "12\n",
      "13\n",
      "14\n",
      "15\n",
      "16\n",
      "17\n",
      "18\n",
      "19\n",
      "20\n",
      "21\n",
      "22\n",
      "23\n",
      "\n",
      " numfixedaperiodic 1159\n"
     ]
    }
   ],
   "source": [
    "# want to find all the non-isomorphic models in the full plane\n",
    "# any symmetries are allowed, ie. all of S4\n",
    "# we can calculate the number quickly using Burnside's lemma\n",
    "\n",
    "S4 = Permutations(4)\n",
    "S4M = [P.to_matrix() for P in S4]\n",
    "\n",
    "fixedall = [0 for i in range(24)]\n",
    "\n",
    "for i in range(24):\n",
    "    print(i)\n",
    "    for T in allmodels:\n",
    "        if S4M[i].transpose()*T*S4M[i] == T:\n",
    "            fixedall[i] += 1\n",
    "\n",
    "numfixedall = sum(fixedall)/24\n",
    "print('\\n', 'numfixedall', numfixedall, '\\n')\n",
    "\n",
    "fixedconnected = [0 for i in range(24)]\n",
    "\n",
    "for i in range(24):\n",
    "    print(i)\n",
    "    for T in connectedmodels:\n",
    "        if S4M[i].transpose()*T*S4M[i] == T:\n",
    "            fixedconnected[i] += 1\n",
    "\n",
    "numfixedconnected = sum(fixedconnected)/24\n",
    "print('\\n', 'numfixedconnected', numfixedconnected, '\\n')\n",
    "\n",
    "fixedaperiodic = [0 for i in range(24)]\n",
    "\n",
    "for i in range(24):\n",
    "    print(i)\n",
    "    for T in aperiodicmodels:\n",
    "        if S4M[i].transpose()*T*S4M[i] == T:\n",
    "            fixedaperiodic[i] += 1\n",
    "\n",
    "numfixedaperiodic = sum(fixedaperiodic)/24\n",
    "print('\\n', 'numfixedaperiodic', numfixedaperiodic)"
   ]
  },
  {
   "cell_type": "code",
   "execution_count": 36,
   "metadata": {},
   "outputs": [
    {
     "name": "stdout",
     "output_type": "stream",
     "text": [
      "0 25575\n",
      "100 23607\n",
      "200 21331\n",
      "300 19031\n",
      "400 16755\n",
      "500 14551\n",
      "600 12443\n",
      "700 10437\n",
      "800 8259\n",
      "900 6151\n",
      "1000 4055\n",
      "1100 2264\n",
      "\n",
      " 1159 \n",
      "\n"
     ]
    }
   ],
   "source": [
    "# actually computing a representative from each isomorphism class takes a bit more work\n",
    "\n",
    "aperiodicnonisomodels = []\n",
    "\n",
    "aperiodicmodelscopy = aperiodicmodels.copy()\n",
    "\n",
    "i = 0\n",
    "while i < len(aperiodicmodelscopy):\n",
    "    if i%100 == 0:\n",
    "        print(i, len(aperiodicmodelscopy))\n",
    "    T = aperiodicmodelscopy[i]\n",
    "    aperiodicnonisomodels.append(T)\n",
    "    for S in S4M:\n",
    "        if S.transpose()*T*S in aperiodicmodelscopy[i+1:]:\n",
    "            aperiodicmodelscopy.remove(S.transpose()*T*S)\n",
    "    i += 1\n",
    "\n",
    "print('\\n', len(aperiodicnonisomodels))"
   ]
  },
  {
   "cell_type": "code",
   "execution_count": 27,
   "metadata": {},
   "outputs": [],
   "source": [
    "# print the aperiodic matrices to file\n",
    "    \n",
    "aperiodicmodelsstr = []\n",
    "\n",
    "for T in aperiodicnonisomodels:\n",
    "    Ts = ''\n",
    "    for row in T:\n",
    "        for i in row:\n",
    "            Ts += str(i)\n",
    "    aperiodicmodelsstr.append(Ts)\n",
    "    \n",
    "with open('full_plane_models.txt', 'w') as f:\n",
    "    for Ts in aperiodicmodelsstr:\n",
    "        f.write(\"%s\\n\" % Ts)"
   ]
  },
  {
   "cell_type": "code",
   "execution_count": 54,
   "metadata": {},
   "outputs": [
    {
     "name": "stdout",
     "output_type": "stream",
     "text": [
      "19328\n",
      "19285\n"
     ]
    }
   ],
   "source": [
    "# next we go to the half plane\n",
    "# we are only interested in connected models\n",
    "# the interesting models here are the vertically unbounded ones\n",
    "# ie. those which are neither north-bound (must be a north step between two south steps) nor south-bound (must be a south step between two north steps)\n",
    "\n",
    "def is_northbound(T, n):\n",
    "    TnoN = diagonal_matrix([1,0,1,1])*T*diagonal_matrix([1,0,1,1])\n",
    "    S = zero_matrix(4)\n",
    "    for i in range(1,n+1):\n",
    "        S += TnoN^i\n",
    "    return(S[3,3] == 0)\n",
    "\n",
    "def is_southbound(T, n):\n",
    "    TnoS = diagonal_matrix([1,1,1,0])*T*diagonal_matrix([1,1,1,0])\n",
    "    S = zero_matrix(4)\n",
    "    for i in range(1,n+1):\n",
    "        S += TnoS^i\n",
    "    return(S[1,1] == 0)\n",
    "\n",
    "vunbconnectedmodels = []\n",
    "\n",
    "# n=3 suffices\n",
    "for T in connectedmodels:\n",
    "    if not is_northbound(T, 3) and not is_southbound(T, 3):\n",
    "        vunbconnectedmodels.append(T)\n",
    "        \n",
    "print(len(vunbconnectedmodels))\n",
    "\n",
    "vunbaperiodicmodels = []\n",
    "\n",
    "for T in aperiodicmodels:\n",
    "    if not is_northbound(T, 3) and not is_southbound(T, 3):\n",
    "        vunbaperiodicmodels.append(T)\n",
    "        \n",
    "print(len(vunbaperiodicmodels))"
   ]
  },
  {
   "cell_type": "code",
   "execution_count": 57,
   "metadata": {},
   "outputs": [
    {
     "name": "stdout",
     "output_type": "stream",
     "text": [
      "numhalffixedconnected 9744\n",
      "numhalffixedaperiodic 9722\n"
     ]
    }
   ],
   "source": [
    "# now do the Burnside calculations for the half plane\n",
    "# here instead of S4 the only symmetry we care about is x <-> -x\n",
    "\n",
    "# the relevant permutation matrix is\n",
    "SH = matrix([[0,0,1,0],[0,1,0,0],[1,0,0,0],[0,0,0,1]])\n",
    "\n",
    "halffixedconnected = 0\n",
    "\n",
    "for T in vunbconnectedmodels:\n",
    "    if SH.transpose()*T*SH == T:\n",
    "        halffixedconnected += 1\n",
    "\n",
    "numhalffixedconnected = (len(vunbconnectedmodels) + halffixedconnected)/2\n",
    "print('numhalffixedconnected', numhalffixedconnected)\n",
    "\n",
    "halffixedaperiodic = 0\n",
    "\n",
    "for T in vunbaperiodicmodels:\n",
    "    if SH.transpose()*T*SH == T:\n",
    "        halffixedaperiodic += 1\n",
    "\n",
    "# the identity fixes everything        \n",
    "numhalffixedaperiodic = (len(vunbaperiodicmodels) + halffixedaperiodic)/2\n",
    "print('numhalffixedaperiodic', numhalffixedaperiodic)"
   ]
  },
  {
   "cell_type": "code",
   "execution_count": 59,
   "metadata": {},
   "outputs": [
    {
     "name": "stdout",
     "output_type": "stream",
     "text": [
      "0 19285\n",
      "1000 18293\n",
      "2000 17293\n",
      "3000 16295\n",
      "4000 15309\n",
      "5000 14327\n",
      "6000 13337\n",
      "7000 12354\n",
      "8000 11372\n",
      "9000 10385\n",
      "\n",
      " 9722 \n",
      "\n"
     ]
    }
   ],
   "source": [
    "# compute a representative from each isomorphism class\n",
    "\n",
    "aperiodichalfmodels = []\n",
    "\n",
    "vunbaperiodicmodelscopy = vunbaperiodicmodels.copy()\n",
    "\n",
    "i = 0\n",
    "while i < len(vunbaperiodicmodelscopy):\n",
    "    if i%1000 == 0:\n",
    "        print(i, len(vunbaperiodicmodelscopy))\n",
    "    T = vunbaperiodicmodelscopy[i]\n",
    "    aperiodichalfmodels.append(T)\n",
    "    if SH.transpose()*T*SH in vunbaperiodicmodelscopy[i+1:]:\n",
    "        vunbaperiodicmodelscopy.remove(SH.transpose()*T*SH)\n",
    "    i += 1\n",
    "\n",
    "print('\\n', len(aperiodichalfmodels))"
   ]
  },
  {
   "cell_type": "code",
   "execution_count": 60,
   "metadata": {},
   "outputs": [],
   "source": [
    "# print to file\n",
    "    \n",
    "aperiodichalfmodelsstr = []\n",
    "\n",
    "for T in aperiodichalfmodels:\n",
    "    Ts = ''\n",
    "    for row in T:\n",
    "        for i in row:\n",
    "            Ts += str(i)\n",
    "    aperiodichalfmodelsstr.append(Ts)\n",
    "    \n",
    "with open('half_plane_models.txt', 'w') as f:\n",
    "    for Ts in aperiodichalfmodelsstr:\n",
    "        f.write(\"%s\\n\" % Ts)"
   ]
  },
  {
   "cell_type": "code",
   "execution_count": 63,
   "metadata": {},
   "outputs": [
    {
     "name": "stdout",
     "output_type": "stream",
     "text": [
      "14978\n",
      "14943\n"
     ]
    }
   ],
   "source": [
    "# finally to the quarter plane\n",
    "# there are a bunch of conditions to consider here\n",
    "\n",
    "# first we want models which are horizontally unbounded as well\n",
    "\n",
    "def is_eastbound(T, n):\n",
    "    TnoE = diagonal_matrix([0,1,1,1])*T*diagonal_matrix([0,1,1,1])\n",
    "    S = zero_matrix(4)\n",
    "    for i in range(1,n+1):\n",
    "        S += TnoE^i\n",
    "    return(S[2,2] == 0)\n",
    "\n",
    "def is_westbound(T, n):\n",
    "    TnoW = diagonal_matrix([1,1,0,1])*T*diagonal_matrix([1,1,0,1])\n",
    "    S = zero_matrix(4)\n",
    "    for i in range(1,n+1):\n",
    "        S += TnoW^i\n",
    "    return(S[0,0] == 0)\n",
    "\n",
    "cunbconnectedmodels = []\n",
    "\n",
    "# n=3 suffices\n",
    "for T in vunbconnectedmodels:\n",
    "    if not is_westbound(T, 3) and not is_eastbound(T, 3):\n",
    "        cunbconnectedmodels.append(T)\n",
    "        \n",
    "print(len(cunbconnectedmodels))\n",
    "\n",
    "cunbaperiodicmodels = []\n",
    "\n",
    "for T in vunbaperiodicmodels:\n",
    "    if not is_westbound(T, 3) and not is_eastbound(T, 3):\n",
    "        cunbaperiodicmodels.append(T)\n",
    "        \n",
    "print(len(cunbaperiodicmodels))"
   ]
  },
  {
   "cell_type": "code",
   "execution_count": 66,
   "metadata": {},
   "outputs": [
    {
     "name": "stdout",
     "output_type": "stream",
     "text": [
      "numquarterfixedconnected 7541\n",
      "numquarterfixedaperiodic 7520\n"
     ]
    }
   ],
   "source": [
    "# we can do Burnside's lemma on those two sets\n",
    "# the only symmetry is x <-> y\n",
    "\n",
    "# the matrix is\n",
    "SQ = matrix([[0,1,0,0],[1,0,0,0],[0,0,0,1],[0,0,1,0]])\n",
    "\n",
    "quarterfixedconnected = 0\n",
    "\n",
    "for T in cunbconnectedmodels:\n",
    "    if SQ.transpose()*T*SQ == T:\n",
    "        quarterfixedconnected += 1\n",
    "\n",
    "numquarterfixedconnected = (len(cunbconnectedmodels) + quarterfixedconnected)/2\n",
    "print('numquarterfixedconnected', numquarterfixedconnected)\n",
    "\n",
    "quarterfixedaperiodic = 0\n",
    "\n",
    "for T in cunbaperiodicmodels:\n",
    "    if SQ.transpose()*T*SQ == T:\n",
    "        quarterfixedaperiodic += 1\n",
    "\n",
    "# the identity fixes everything        \n",
    "numquarterfixedaperiodic = (len(cunbaperiodicmodels) + quarterfixedaperiodic)/2\n",
    "print('numquarterfixedaperiodic', numquarterfixedaperiodic)"
   ]
  },
  {
   "cell_type": "code",
   "execution_count": 64,
   "metadata": {},
   "outputs": [
    {
     "name": "stdout",
     "output_type": "stream",
     "text": [
      "14209\n",
      "14205\n"
     ]
    }
   ],
   "source": [
    "# next we need them to be diagonally unbounded\n",
    "# that is, we want walks to be able to go arbitrarily far above the line y=-x, and arbitrarily far above and below the line y=x\n",
    "# the conditions to check this are the following\n",
    "\n",
    "def is_southwestbound(T):\n",
    "    return(T[0,0] == 0 and T[1,1] == 0 and T[1,0]*T[0,1] == 0 and T[0,1]*T[1,3]*T[3,0] == 0 and T[0,3]*T[3,1]*T[1,0] == 0 and T[1,0]*T[0,2]*T[2,1] == 0 and T[1,2]*T[2,0]*T[0,1] == 0)\n",
    "\n",
    "def is_southeastbound(T):\n",
    "    return(T[1,1] == 0 and T[2,2] == 0 and T[1,2]*T[2,1] == 0 and T[1,0]*T[0,2]*T[2,1] == 0 and T[1,2]*T[2,0]*T[0,1] == 0 and T[2,1]*T[1,3]*T[3,2] == 0 and T[2,3]*T[3,1]*T[1,2] == 0)\n",
    "\n",
    "def is_northwestbound(T):\n",
    "    return(T[0,0] == 0 and T[3,3] == 0 and T[0,3]*T[3,0] == 0 and T[0,1]*T[1,3]*T[3,0] == 0 and T[0,3]*T[3,1]*T[1,0] == 0 and T[3,0]*T[0,2]*T[2,3] == 0 and T[3,2]*T[2,0]*T[0,3] == 0)\n",
    "\n",
    "cdunbconnectedmodels = []\n",
    "\n",
    "for T in cunbconnectedmodels:\n",
    "    if not is_southwestbound(T) and not is_southeastbound(T) and not is_northwestbound(T):\n",
    "        cdunbconnectedmodels.append(T)\n",
    "        \n",
    "print(len(cdunbconnectedmodels))\n",
    "\n",
    "cdunbaperiodicmodels = []\n",
    "\n",
    "for T in cunbaperiodicmodels:\n",
    "    if not is_southwestbound(T) and not is_southeastbound(T) and not is_northwestbound(T):\n",
    "        cdunbaperiodicmodels.append(T)\n",
    "        \n",
    "print(len(cdunbaperiodicmodels))"
   ]
  },
  {
   "cell_type": "code",
   "execution_count": 67,
   "metadata": {},
   "outputs": [
    {
     "name": "stdout",
     "output_type": "stream",
     "text": [
      "numquarterfixedconnectedv2 7149\n",
      "numquarterfixedaperiodicv2 7146\n"
     ]
    }
   ],
   "source": [
    "# Burnside again\n",
    "\n",
    "quarterfixedconnectedv2 = 0\n",
    "\n",
    "for T in cdunbconnectedmodels:\n",
    "    if SQ.transpose()*T*SQ == T:\n",
    "        quarterfixedconnectedv2 += 1\n",
    "\n",
    "numquarterfixedconnectedv2 = (len(cdunbconnectedmodels) + quarterfixedconnectedv2)/2\n",
    "print('numquarterfixedconnectedv2', numquarterfixedconnectedv2)\n",
    "\n",
    "quarterfixedaperiodicv2 = 0\n",
    "\n",
    "for T in cdunbaperiodicmodels:\n",
    "    if SQ.transpose()*T*SQ == T:\n",
    "        quarterfixedaperiodicv2 += 1\n",
    "\n",
    "# the identity fixes everything        \n",
    "numquarterfixedaperiodicv2 = (len(cdunbaperiodicmodels) + quarterfixedaperiodicv2)/2\n",
    "print('numquarterfixedaperiodicv2', numquarterfixedaperiodicv2)"
   ]
  },
  {
   "cell_type": "code",
   "execution_count": 68,
   "metadata": {},
   "outputs": [
    {
     "name": "stdout",
     "output_type": "stream",
     "text": [
      "13749\n",
      "13745\n"
     ]
    }
   ],
   "source": [
    "# the last condition to check is whether the model is glued\n",
    "# that is, if restricted to the quarter plane, will it actually be able to leave the x and y axes?\n",
    "\n",
    "# the condition is this\n",
    "\n",
    "def is_glued(T):\n",
    "    return(T[0,1] == 0 and T[0,0]*T[0,2]*T[2,1] == 0 and T[1,0] == 0 and T[1,1]*T[1,3]*T[3,0] == 0)\n",
    "\n",
    "ngcdunbconnectedmodels = []\n",
    "\n",
    "for T in cdunbconnectedmodels:\n",
    "    if not is_glued(T):\n",
    "        ngcdunbconnectedmodels.append(T)\n",
    "\n",
    "print(len(ngcdunbconnectedmodels))\n",
    "\n",
    "ngcdunbaperiodicmodels = []\n",
    "\n",
    "for T in cdunbaperiodicmodels:\n",
    "    if not is_glued(T):\n",
    "        ngcdunbaperiodicmodels.append(T)\n",
    "\n",
    "print(len(ngcdunbaperiodicmodels))"
   ]
  },
  {
   "cell_type": "code",
   "execution_count": 69,
   "metadata": {},
   "outputs": [
    {
     "name": "stdout",
     "output_type": "stream",
     "text": [
      "numquarterfixedconnectedv3 6912\n",
      "numquarterfixedaperiodicv3 6909\n"
     ]
    }
   ],
   "source": [
    "# a final Burnside\n",
    "\n",
    "quarterfixedconnectedv3 = 0\n",
    "\n",
    "for T in ngcdunbconnectedmodels:\n",
    "    if SQ.transpose()*T*SQ == T:\n",
    "        quarterfixedconnectedv3 += 1\n",
    "\n",
    "numquarterfixedconnectedv3 = (len(ngcdunbconnectedmodels) + quarterfixedconnectedv3)/2\n",
    "print('numquarterfixedconnectedv3', numquarterfixedconnectedv3)\n",
    "\n",
    "quarterfixedaperiodicv3 = 0\n",
    "\n",
    "for T in ngcdunbaperiodicmodels:\n",
    "    if SQ.transpose()*T*SQ == T:\n",
    "        quarterfixedaperiodicv3 += 1\n",
    "\n",
    "# the identity fixes everything        \n",
    "numquarterfixedaperiodicv3 = (len(ngcdunbaperiodicmodels) + quarterfixedaperiodicv3)/2\n",
    "print('numquarterfixedaperiodicv3', numquarterfixedaperiodicv3)"
   ]
  },
  {
   "cell_type": "code",
   "execution_count": 70,
   "metadata": {},
   "outputs": [
    {
     "name": "stdout",
     "output_type": "stream",
     "text": [
      "0 13745\n",
      "1000 12745\n",
      "2000 11745\n",
      "3000 10754\n",
      "4000 9773\n",
      "5000 8773\n",
      "6000 7787\n",
      "\n",
      " 6909 \n",
      "\n"
     ]
    }
   ],
   "source": [
    "# compute a representative from each isomorphism class\n",
    "\n",
    "aperiodicquartermodels = []\n",
    "\n",
    "ngcdunbaperiodicmodelscopy = ngcdunbaperiodicmodels.copy()\n",
    "\n",
    "i = 0\n",
    "while i < len(ngcdunbaperiodicmodelscopy):\n",
    "    if i%1000 == 0:\n",
    "        print(i, len(ngcdunbaperiodicmodelscopy))\n",
    "    T = ngcdunbaperiodicmodelscopy[i]\n",
    "    aperiodicquartermodels.append(T)\n",
    "    if SQ.transpose()*T*SQ in ngcdunbaperiodicmodelscopy[i+1:]:\n",
    "        ngcdunbaperiodicmodelscopy.remove(SQ.transpose()*T*SQ)\n",
    "    i += 1\n",
    "\n",
    "print('\\n', len(aperiodicquartermodels))"
   ]
  },
  {
   "cell_type": "code",
   "execution_count": 71,
   "metadata": {},
   "outputs": [],
   "source": [
    "# and print to file\n",
    "\n",
    "aperiodicquartermodelsstr = []\n",
    "\n",
    "for T in aperiodicquartermodels:\n",
    "    Ts = ''\n",
    "    for row in T:\n",
    "        for i in row:\n",
    "            Ts += str(i)\n",
    "    aperiodicquartermodelsstr.append(Ts)\n",
    "    \n",
    "with open('quarter_plane_models.txt', 'w') as f:\n",
    "    for Ts in aperiodicquartermodelsstr:\n",
    "        f.write(\"%s\\n\" % Ts)"
   ]
  },
  {
   "cell_type": "code",
   "execution_count": null,
   "metadata": {},
   "outputs": [],
   "source": []
  }
 ],
 "metadata": {
  "kernelspec": {
   "display_name": "SageMath 9.2",
   "language": "sage",
   "name": "sagemath"
  },
  "language_info": {
   "codemirror_mode": {
    "name": "ipython",
    "version": 3
   },
   "file_extension": ".py",
   "mimetype": "text/x-python",
   "name": "python",
   "nbconvert_exporter": "python",
   "pygments_lexer": "ipython3",
   "version": "3.8.5"
  }
 },
 "nbformat": 4,
 "nbformat_minor": 4
}
